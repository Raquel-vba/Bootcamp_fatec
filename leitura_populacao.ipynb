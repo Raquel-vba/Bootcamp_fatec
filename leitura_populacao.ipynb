{
  "nbformat": 4,
  "nbformat_minor": 0,
  "metadata": {
    "colab": {
      "provenance": [],
      "authorship_tag": "ABX9TyOsK6Se4/FQ2dVmUM6FRIyD",
      "include_colab_link": true
    },
    "kernelspec": {
      "name": "python3",
      "display_name": "Python 3"
    },
    "language_info": {
      "name": "python"
    }
  },
  "cells": [
    {
      "cell_type": "markdown",
      "metadata": {
        "id": "view-in-github",
        "colab_type": "text"
      },
      "source": [
        "<a href=\"https://colab.research.google.com/github/Raquel-vba/Bootcamp_fatec/blob/main/leitura_populacao.ipynb\" target=\"_parent\"><img src=\"https://colab.research.google.com/assets/colab-badge.svg\" alt=\"Open In Colab\"/></a>"
      ]
    },
    {
      "cell_type": "code",
      "execution_count": 1,
      "metadata": {
        "colab": {
          "base_uri": "https://localhost:8080/"
        },
        "id": "wPi4TOSXIz-h",
        "outputId": "ce446fc3-850c-4781-e8b9-ccc2c9a5dc1e"
      },
      "outputs": [
        {
          "output_type": "stream",
          "name": "stdout",
          "text": [
            "Requirement already satisfied: pyspark in /usr/local/lib/python3.12/dist-packages (3.5.1)\n",
            "Requirement already satisfied: py4j==0.10.9.7 in /usr/local/lib/python3.12/dist-packages (from pyspark) (0.10.9.7)\n"
          ]
        }
      ],
      "source": [
        "!pip install pyspark"
      ]
    },
    {
      "cell_type": "code",
      "source": [
        "from pyspark.sql import SparkSession\n",
        "from urllib.request import urlopen\n",
        "import tempfile\n",
        "\n",
        "spark = SparkSession.builder.appName(\"Leitura CSV Robusta\").getOrCreate()\n",
        "\n",
        "#url = \"https://raw.githubusercontent.com/mwaskom/seaborn-data/master/iris.csv\"\n",
        "url = \"https://raw.githubusercontent.com/Raquel-vba/Bootcamp_fatec/main/populacao/br_ibge_populacao_brasil.csv\"\n",
        "\n",
        "def read_csv_robusto(url, sep=\",\", header=True, infer=True):\n",
        "    opt = (spark.read\n",
        "           .option(\"header\", str(header).lower())\n",
        "           .option(\"inferSchema\", str(infer).lower())\n",
        "           .option(\"sep\", sep))\n",
        "    try:\n",
        "        # 1) Tenta direto pela URL\n",
        "        return opt.csv(url)\n",
        "    except Exception:\n",
        "        # 2) Fallback: baixa para arquivo local e lê\n",
        "        with tempfile.NamedTemporaryFile(delete=False, suffix=\".csv\") as tmp:\n",
        "            tmp.write(urlopen(url).read())\n",
        "            local_csv = tmp.name\n",
        "        return opt.csv(local_csv)\n",
        "\n",
        "df = read_csv_robusto(url, sep=\",\")\n",
        "df.show(15)\n",
        "df.printSchema()"
      ],
      "metadata": {
        "colab": {
          "base_uri": "https://localhost:8080/"
        },
        "id": "QoKoNPsyI6bp",
        "outputId": "3aabd10b-28d4-4dff-e7ac-20ad87e60d05"
      },
      "execution_count": 1,
      "outputs": [
        {
          "output_type": "stream",
          "name": "stdout",
          "text": [
            "+----+---------+------------------------------+\n",
            "| ano|populacao|populacao_economicamente_ativa|\n",
            "+----+---------+------------------------------+\n",
            "|1991|146815815|                          NULL|\n",
            "|1992|149236984|                          NULL|\n",
            "|1993|151571727|                          NULL|\n",
            "|1994|153725670|                          NULL|\n",
            "|1995|155822440|                          NULL|\n",
            "|1996|157070163|                          NULL|\n",
            "|1997|159636413|                          NULL|\n",
            "|1998|161790311|                          NULL|\n",
            "|1999|163947554|                          NULL|\n",
            "|2000|169872854|                          NULL|\n",
            "|2001|172385826|                          NULL|\n",
            "|2002|174632960|                          NULL|\n",
            "|2003|176871437|                          NULL|\n",
            "|2004|181581024|                          NULL|\n",
            "|2005|184184264|                          NULL|\n",
            "+----+---------+------------------------------+\n",
            "only showing top 15 rows\n",
            "\n",
            "root\n",
            " |-- ano: integer (nullable = true)\n",
            " |-- populacao: integer (nullable = true)\n",
            " |-- populacao_economicamente_ativa: integer (nullable = true)\n",
            "\n"
          ]
        }
      ]
    },
    {
      "cell_type": "code",
      "source": [],
      "metadata": {
        "id": "RdR9bP5gJSMx"
      },
      "execution_count": null,
      "outputs": []
    }
  ]
}